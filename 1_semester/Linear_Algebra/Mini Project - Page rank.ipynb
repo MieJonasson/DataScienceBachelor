{
 "cells": [
  {
   "cell_type": "markdown",
   "id": "3839babe",
   "metadata": {},
   "source": [
    "# Mini Project"
   ]
  },
  {
   "cell_type": "markdown",
   "id": "b2efb069",
   "metadata": {},
   "source": [
    "Authored by Regitze Sydendal, Nikolette Zoe Pedersen & Mie Jonasson"
   ]
  },
  {
   "cell_type": "markdown",
   "id": "1e92c66a",
   "metadata": {},
   "source": [
    "## initialisation"
   ]
  },
  {
   "cell_type": "markdown",
   "id": "fbf53779",
   "metadata": {},
   "source": [
    "We start by importing our python packages that we need for the code to run"
   ]
  },
  {
   "cell_type": "code",
   "execution_count": 1,
   "id": "544c2b8b",
   "metadata": {},
   "outputs": [],
   "source": [
    "import networkx as nx\n",
    "import numpy as np\n",
    "import random"
   ]
  },
  {
   "cell_type": "markdown",
   "id": "9a560ee1",
   "metadata": {},
   "source": [
    "We define a function for opening the directed graphs from a filename. In the description of the exercise, we were told a DiGraph would be fine for this exercise, but have at the same time noted, that this type does not account for duplicate edges, and will only have these appear once in the dataset for the graph."
   ]
  },
  {
   "cell_type": "code",
   "execution_count": 2,
   "id": "28c6f490",
   "metadata": {},
   "outputs": [],
   "source": [
    "def open_graph_file(filename):\n",
    "    with open(filename,'rb') as f:\n",
    "        graph = nx.read_adjlist(f, create_using=nx.DiGraph())\n",
    "    return graph"
   ]
  },
  {
   "cell_type": "markdown",
   "id": "23720a26",
   "metadata": {},
   "source": [
    "We load a specific file, and save it in a variable"
   ]
  },
  {
   "cell_type": "code",
   "execution_count": 3,
   "id": "58c673c3",
   "metadata": {},
   "outputs": [],
   "source": [
    "graph_1 = open_graph_file('p2p-Gnutella08-mod.txt')"
   ]
  },
  {
   "cell_type": "markdown",
   "id": "40dade1a",
   "metadata": {},
   "source": [
    "## Random Surfer"
   ]
  },
  {
   "cell_type": "markdown",
   "id": "04f5f0bc",
   "metadata": {},
   "source": [
    "We want to choose a starting node at random, and assign it as 'current'"
   ]
  },
  {
   "cell_type": "code",
   "execution_count": 4,
   "id": "1d5576cd",
   "metadata": {},
   "outputs": [],
   "source": [
    "current = random.choice(list(graph_1))"
   ]
  },
  {
   "cell_type": "markdown",
   "id": "90f2e362",
   "metadata": {},
   "source": [
    "We create a list of the dangling nodes in the graph"
   ]
  },
  {
   "cell_type": "code",
   "execution_count": 5,
   "id": "faf43594",
   "metadata": {},
   "outputs": [],
   "source": [
    "branching = np.array([len(list(graph_1.neighbors(n))) for n in graph_1])\n",
    "dangling = [n for n,i in zip(list(graph_1),range(len(graph_1))) if branching[i]==0]"
   ]
  },
  {
   "cell_type": "markdown",
   "id": "fc887445",
   "metadata": {},
   "source": [
    "We initiate a dict for counting the number of times each node is visited in the random walk we are about to condone"
   ]
  },
  {
   "cell_type": "code",
   "execution_count": 34,
   "id": "1d2111a0",
   "metadata": {},
   "outputs": [],
   "source": [
    "visit_dict = {n:0 for n in list(graph_1)}"
   ]
  },
  {
   "cell_type": "markdown",
   "id": "63339b25",
   "metadata": {},
   "source": [
    "We make a loop that iterates a great number of times, and for each iteration it should travel to another node, and add a 'point' to the number of times that node has been visited"
   ]
  },
  {
   "cell_type": "code",
   "execution_count": 43,
   "id": "5e97401f",
   "metadata": {},
   "outputs": [],
   "source": [
    "iterations = 1100000\n",
    "visit_dict[current] += 1\n",
    "for i in range(iterations):\n",
    "    if random.random() < 0.15 or current in dangling:\n",
    "        current = random.choice(list(graph_1))\n",
    "    else:\n",
    "        current = random.choice(list(graph_1.neighbors(current)))\n",
    "    visit_dict[current] += 1"
   ]
  },
  {
   "cell_type": "markdown",
   "id": "41bddcb3",
   "metadata": {},
   "source": [
    "We now sort the keys of the dictionary to have the ones being visited most (having the highest value) at the beginning, thus decreasing in popularity towards the end, and then printing the 10 most popular nodes:"
   ]
  },
  {
   "cell_type": "code",
   "execution_count": 44,
   "id": "800817b8",
   "metadata": {},
   "outputs": [
    {
     "name": "stdout",
     "output_type": "stream",
     "text": [
      "['367', '249', '145', '264', '266', '123', '5', '127', '122', '1317']\n"
     ]
    }
   ],
   "source": [
    "most_popular = sorted(visit_dict.items(), key = lambda kv: kv[1])\n",
    "most_popular.reverse()\n",
    "most_popular_nodes = [n for n,v in most_popular]\n",
    "print(most_popular_nodes[:10])"
   ]
  },
  {
   "cell_type": "markdown",
   "id": "a907c4ff",
   "metadata": {},
   "source": [
    "## Page Rank"
   ]
  },
  {
   "cell_type": "markdown",
   "id": "fcc3cb23",
   "metadata": {},
   "source": [
    "#### Initialising"
   ]
  },
  {
   "cell_type": "markdown",
   "id": "8b50203d",
   "metadata": {},
   "source": [
    "We use this command to get the number of nodes in the graph"
   ]
  },
  {
   "cell_type": "code",
   "execution_count": 4,
   "id": "f8ea3a3b",
   "metadata": {},
   "outputs": [],
   "source": [
    "n_nodes = len(graph_1)"
   ]
  },
  {
   "cell_type": "markdown",
   "id": "97473630",
   "metadata": {},
   "source": [
    "We find the reverse of the graph to help us compute the backlinks later on"
   ]
  },
  {
   "cell_type": "code",
   "execution_count": 5,
   "id": "80cfa296",
   "metadata": {},
   "outputs": [],
   "source": [
    "rev_graph = graph_1.reverse()"
   ]
  },
  {
   "cell_type": "markdown",
   "id": "a20f23ad",
   "metadata": {},
   "source": [
    "We create an array called 'branching' that will consist of the number of nodes that are linked to from the node with the value of the index"
   ]
  },
  {
   "cell_type": "code",
   "execution_count": 6,
   "id": "91038e80",
   "metadata": {},
   "outputs": [],
   "source": [
    "branching = np.array([len(list(graph_1.neighbors(n))) for n in graph_1])"
   ]
  },
  {
   "cell_type": "markdown",
   "id": "951c97f8",
   "metadata": {},
   "source": [
    "We create a list consisting of the indices of the dangling nodes in the graph, by finding out which entries in branching are equal to 0"
   ]
  },
  {
   "cell_type": "code",
   "execution_count": 7,
   "id": "7c04174a",
   "metadata": {},
   "outputs": [],
   "source": [
    "dangling_i = [n for n in range(len(graph_1)) if branching[n]==0]"
   ]
  },
  {
   "cell_type": "markdown",
   "id": "d75396e4",
   "metadata": {},
   "source": [
    "This is the inital approximation for the ranking vector, given by x0, where all entries correspond to 1/n"
   ]
  },
  {
   "cell_type": "code",
   "execution_count": 8,
   "id": "b56e0203",
   "metadata": {},
   "outputs": [],
   "source": [
    "x0 = np.array([[1/n_nodes] for _ in range(n_nodes)])"
   ]
  },
  {
   "cell_type": "markdown",
   "id": "f2eab921",
   "metadata": {},
   "source": [
    "#### Estimating rankings"
   ]
  },
  {
   "cell_type": "markdown",
   "id": "1511bac5",
   "metadata": {},
   "source": [
    "We create the variable xk, and give it our initial ranking vector, give m a value of 0.15 and choose the number of iterations"
   ]
  },
  {
   "cell_type": "code",
   "execution_count": 55,
   "id": "c16091bc",
   "metadata": {},
   "outputs": [],
   "source": [
    "xk = x0\n",
    "m = 0.15\n",
    "iterations = 6"
   ]
  },
  {
   "cell_type": "markdown",
   "id": "afc3aace",
   "metadata": {},
   "source": [
    "We now do a loop that continuously computes a new xk (which will be xk+1) and assigns this to be the new xk"
   ]
  },
  {
   "cell_type": "code",
   "execution_count": 70,
   "id": "eb049f82",
   "metadata": {},
   "outputs": [],
   "source": [
    "for j in range(iterations):\n",
    "    xk1 = np.zeros((n_nodes,1))\n",
    "    #Our Dxki will be the same for all i, so we compute it once, and add it on later.\n",
    "    Dxki = sum([xk[ind]/n_nodes for ind in dangling_i])\n",
    "    for i,n in zip(range(n_nodes),graph_1):\n",
    "        #We initialise x(k+1)i as m*(Sxk)i, and since we know that every entry in Sxk is given by sum(xk)/n,\n",
    "        #And we furthermore know that the sum(xk) i always 1, the value of m*(Sxk)i will always be m * 1/n\n",
    "        xk1i = m * (1/n_nodes)\n",
    "        \n",
    "        #We compute Axki by looping over the backlinks, and adding the nodes own rank divided by \n",
    "        #the number of links going out from the node.\n",
    "        Axki = sum([xk[ind]/branching[ind] for ind,n2 in zip(range(n_nodes),rev_graph) if n2 in rev_graph.neighbors(n)])\n",
    "        \n",
    "        #We add the different parts all together and place it back into xk+1\n",
    "        xk1i += (1-m)*Dxki+(1-m)*Axki\n",
    "        xk1[i]=xk1i\n",
    "    #Before we begin a new iteration, we make xk take on the values of x(k+1)\n",
    "    xk = xk1"
   ]
  },
  {
   "cell_type": "markdown",
   "id": "e38fbf51",
   "metadata": {},
   "source": [
    "We print the top 10 rankings, and check that the sum of them is 1."
   ]
  },
  {
   "cell_type": "code",
   "execution_count": 71,
   "id": "74fbb8c4",
   "metadata": {},
   "outputs": [
    {
     "name": "stdout",
     "output_type": "stream",
     "text": [
      "10 most popular nodes: \n",
      " [ 82.  36.  41.  37. 613.  79.  32. 462. 452.   5.]\n",
      "Their Rankings: \n",
      " [0.00238765 0.0021843  0.00205489 0.00199875 0.00196344 0.00186349\n",
      " 0.00186051 0.00185325 0.0018435  0.00183107]\n",
      "\n",
      "Sum of the rankings:  1.0\n"
     ]
    }
   ],
   "source": [
    "xk_for_sort = np.concatenate((np.reshape(np.asarray(range(n_nodes)),(n_nodes,1)),xk),axis = 1)\n",
    "xksorted = xk_for_sort[xk_for_sort[:,1].argsort()]\n",
    "xksorted = np.flip(xksorted)\n",
    "print('10 most popular nodes: \\n',xksorted[:10,1])\n",
    "print('Their Rankings: \\n',xksorted[:10,0])\n",
    "print('\\nSum of the rankings: ',round(sum(xk)[0],4))"
   ]
  }
 ],
 "metadata": {
  "kernelspec": {
   "display_name": "Python 3",
   "language": "python",
   "name": "python3"
  },
  "language_info": {
   "codemirror_mode": {
    "name": "ipython",
    "version": 3
   },
   "file_extension": ".py",
   "mimetype": "text/x-python",
   "name": "python",
   "nbconvert_exporter": "python",
   "pygments_lexer": "ipython3",
   "version": "3.8.8"
  }
 },
 "nbformat": 4,
 "nbformat_minor": 5
}
