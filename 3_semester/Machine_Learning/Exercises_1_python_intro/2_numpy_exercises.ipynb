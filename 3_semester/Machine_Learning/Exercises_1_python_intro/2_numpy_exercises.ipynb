{
 "cells": [
  {
   "cell_type": "markdown",
   "metadata": {
    "id": "YQNQ4keK-xjv"
   },
   "source": [
    "# **2. Numpy exercises**"
   ]
  },
  {
   "cell_type": "markdown",
   "metadata": {
    "id": "M2o48Okh-_GD"
   },
   "source": [
    "1. Import the numpy package under the name `np`\n",
    "\n",
    "`hint: import … as`"
   ]
  },
  {
   "cell_type": "code",
   "execution_count": 1,
   "metadata": {
    "id": "XN7DFiM7_Pvp"
   },
   "outputs": [],
   "source": [
    "import numpy as np"
   ]
  },
  {
   "cell_type": "markdown",
   "metadata": {
    "id": "POLBAG5M_QPQ"
   },
   "source": [
    "2. Create a null vector of size 10\n",
    "\n",
    "`hint: np.zeros`\n",
    "\n"
   ]
  },
  {
   "cell_type": "code",
   "execution_count": 2,
   "metadata": {
    "id": "aZT2R1tkBicc"
   },
   "outputs": [
    {
     "data": {
      "text/plain": [
       "array([0., 0., 0., 0., 0., 0., 0., 0., 0., 0.])"
      ]
     },
     "execution_count": 2,
     "metadata": {},
     "output_type": "execute_result"
    }
   ],
   "source": [
    "np.zeros(10)"
   ]
  },
  {
   "cell_type": "markdown",
   "metadata": {
    "id": "6jmMwHwpAA2H"
   },
   "source": [
    "3. Create a vector with values ranging from 0 to 100\n",
    "\n",
    "`hint: arange`"
   ]
  },
  {
   "cell_type": "code",
   "execution_count": 4,
   "metadata": {
    "id": "g-3xXzvrAWPJ"
   },
   "outputs": [
    {
     "data": {
      "text/plain": [
       "array([  0,   1,   2,   3,   4,   5,   6,   7,   8,   9,  10,  11,  12,\n",
       "        13,  14,  15,  16,  17,  18,  19,  20,  21,  22,  23,  24,  25,\n",
       "        26,  27,  28,  29,  30,  31,  32,  33,  34,  35,  36,  37,  38,\n",
       "        39,  40,  41,  42,  43,  44,  45,  46,  47,  48,  49,  50,  51,\n",
       "        52,  53,  54,  55,  56,  57,  58,  59,  60,  61,  62,  63,  64,\n",
       "        65,  66,  67,  68,  69,  70,  71,  72,  73,  74,  75,  76,  77,\n",
       "        78,  79,  80,  81,  82,  83,  84,  85,  86,  87,  88,  89,  90,\n",
       "        91,  92,  93,  94,  95,  96,  97,  98,  99, 100])"
      ]
     },
     "execution_count": 4,
     "metadata": {},
     "output_type": "execute_result"
    }
   ],
   "source": [
    "np.arange(101)"
   ]
  },
  {
   "cell_type": "markdown",
   "metadata": {
    "id": "RbwjVj99AWXZ"
   },
   "source": [
    "4. Create a 10x10 matrix with random values and find the minimum, maximum, and mean values. Normalize the said matrix \n",
    "\n",
    "`hint: min, max, ...`"
   ]
  },
  {
   "cell_type": "code",
   "execution_count": 8,
   "metadata": {
    "id": "_0VEPKs4AxLS"
   },
   "outputs": [
    {
     "name": "stdout",
     "output_type": "stream",
     "text": [
      "minimum: \t 0.007995257400943645 \n",
      "maximum: \t 0.9778887047814986 \n",
      "mean: \t\t 0.48905633666454196\n"
     ]
    }
   ],
   "source": [
    "a = np.random.rand(10,10)\n",
    "print('minimum: \\t',a.min(),'\\nmaximum: \\t',a.max(),'\\nmean: \\t\\t',a.mean())"
   ]
  },
  {
   "cell_type": "markdown",
   "metadata": {
    "id": "RNcNkqTHAxhA"
   },
   "source": [
    "5. Consider a random 10x2 matrix representing cartesian coordinates, convert them to polar coordinates\n",
    "\n",
    "`hint: np.sqrt, np.arctan2`"
   ]
  },
  {
   "cell_type": "code",
   "execution_count": 42,
   "metadata": {
    "id": "TimwEyjqBxtP"
   },
   "outputs": [
    {
     "data": {
      "text/plain": [
       "array([[3.60555128, 0.41822433],\n",
       "       [1.        , 1.57079633],\n",
       "       [3.        , 0.        ],\n",
       "       [3.        , 1.44644133],\n",
       "       [3.        , 0.        ],\n",
       "       [1.41421356, 0.64350111],\n",
       "       [1.73205081, 0.64350111],\n",
       "       [2.        , 1.57079633],\n",
       "       [3.74165739, 0.92729522],\n",
       "       [3.        , 1.44644133]])"
      ]
     },
     "execution_count": 42,
     "metadata": {},
     "output_type": "execute_result"
    }
   ],
   "source": [
    "np.random.seed(10)\n",
    "cart = np.random.randint(0,10,(10,2))\n",
    "polar = np.zeros((10,2))\n",
    "polar[:,0] = np.sqrt(cart[:,0]^2 + cart[:,1]^2)\n",
    "polar[:,1] = np.arctan2(cart[:,1],cart[:,0])\n",
    "polar"
   ]
  },
  {
   "cell_type": "markdown",
   "metadata": {
    "id": "StYSV1XMBx3D"
   },
   "source": [
    "6. Create random vector of size 10 and replace the maximum value by 0\n",
    "\n",
    "`hint: argmax`"
   ]
  },
  {
   "cell_type": "code",
   "execution_count": 41,
   "metadata": {
    "id": "OJLNkf9nEYBj"
   },
   "outputs": [
    {
     "name": "stdout",
     "output_type": "stream",
     "text": [
      "[1 1 8 1 6 3 8 4 2 8]\n",
      "[1 1 0 1 6 3 8 4 2 8]\n"
     ]
    }
   ],
   "source": [
    "b = np.random.randint(1,11,10)\n",
    "print(b)\n",
    "b[b.argmax()] = 0\n",
    "print(b)"
   ]
  },
  {
   "cell_type": "markdown",
   "metadata": {
    "id": "pkMmd0g9EMTX"
   },
   "source": [
    "7. Create a structured array with x and y coordinates covering the [0,1]x[0,1] area.\n",
    "\n",
    "`hint: np.meshgrid`"
   ]
  },
  {
   "cell_type": "code",
   "execution_count": 44,
   "metadata": {
    "colab": {
     "base_uri": "https://localhost:8080/"
    },
    "executionInfo": {
     "elapsed": 291,
     "status": "ok",
     "timestamp": 1626098348908,
     "user": {
      "displayName": "Đorđe Grbić",
      "photoUrl": "https://lh3.googleusercontent.com/a-/AOh14GjMtdPDPC6XJoAlVJ9SyzF_WldAaS1YlXbiUOAReA=s64",
      "userId": "17224412897437983949"
     },
     "user_tz": -120
    },
    "id": "bl8BChgEEYvE",
    "outputId": "bab731d6-be47-4735-a658-28b8eeebfc4d"
   },
   "outputs": [
    {
     "data": {
      "text/plain": [
       "array([0. , 0.1, 0.2, 0.3, 0.4, 0.5, 0.6, 0.7, 0.8, 0.9, 1. ])"
      ]
     },
     "execution_count": 44,
     "metadata": {},
     "output_type": "execute_result"
    }
   ],
   "source": [
    "x = np.arange(0, 1.1, 0.1)\n",
    "x"
   ]
  },
  {
   "cell_type": "code",
   "execution_count": 54,
   "metadata": {},
   "outputs": [
    {
     "data": {
      "text/plain": [
       "[array([[0. , 0.1, 0.2, 0.3, 0.4, 0.5, 0.6, 0.7, 0.8, 0.9, 1. ],\n",
       "        [0. , 0.1, 0.2, 0.3, 0.4, 0.5, 0.6, 0.7, 0.8, 0.9, 1. ],\n",
       "        [0. , 0.1, 0.2, 0.3, 0.4, 0.5, 0.6, 0.7, 0.8, 0.9, 1. ],\n",
       "        [0. , 0.1, 0.2, 0.3, 0.4, 0.5, 0.6, 0.7, 0.8, 0.9, 1. ],\n",
       "        [0. , 0.1, 0.2, 0.3, 0.4, 0.5, 0.6, 0.7, 0.8, 0.9, 1. ],\n",
       "        [0. , 0.1, 0.2, 0.3, 0.4, 0.5, 0.6, 0.7, 0.8, 0.9, 1. ],\n",
       "        [0. , 0.1, 0.2, 0.3, 0.4, 0.5, 0.6, 0.7, 0.8, 0.9, 1. ],\n",
       "        [0. , 0.1, 0.2, 0.3, 0.4, 0.5, 0.6, 0.7, 0.8, 0.9, 1. ],\n",
       "        [0. , 0.1, 0.2, 0.3, 0.4, 0.5, 0.6, 0.7, 0.8, 0.9, 1. ],\n",
       "        [0. , 0.1, 0.2, 0.3, 0.4, 0.5, 0.6, 0.7, 0.8, 0.9, 1. ],\n",
       "        [0. , 0.1, 0.2, 0.3, 0.4, 0.5, 0.6, 0.7, 0.8, 0.9, 1. ]]),\n",
       " array([[0. , 0. , 0. , 0. , 0. , 0. , 0. , 0. , 0. , 0. , 0. ],\n",
       "        [0.1, 0.1, 0.1, 0.1, 0.1, 0.1, 0.1, 0.1, 0.1, 0.1, 0.1],\n",
       "        [0.2, 0.2, 0.2, 0.2, 0.2, 0.2, 0.2, 0.2, 0.2, 0.2, 0.2],\n",
       "        [0.3, 0.3, 0.3, 0.3, 0.3, 0.3, 0.3, 0.3, 0.3, 0.3, 0.3],\n",
       "        [0.4, 0.4, 0.4, 0.4, 0.4, 0.4, 0.4, 0.4, 0.4, 0.4, 0.4],\n",
       "        [0.5, 0.5, 0.5, 0.5, 0.5, 0.5, 0.5, 0.5, 0.5, 0.5, 0.5],\n",
       "        [0.6, 0.6, 0.6, 0.6, 0.6, 0.6, 0.6, 0.6, 0.6, 0.6, 0.6],\n",
       "        [0.7, 0.7, 0.7, 0.7, 0.7, 0.7, 0.7, 0.7, 0.7, 0.7, 0.7],\n",
       "        [0.8, 0.8, 0.8, 0.8, 0.8, 0.8, 0.8, 0.8, 0.8, 0.8, 0.8],\n",
       "        [0.9, 0.9, 0.9, 0.9, 0.9, 0.9, 0.9, 0.9, 0.9, 0.9, 0.9],\n",
       "        [1. , 1. , 1. , 1. , 1. , 1. , 1. , 1. , 1. , 1. , 1. ]])]"
      ]
     },
     "execution_count": 54,
     "metadata": {},
     "output_type": "execute_result"
    }
   ],
   "source": [
    "np.meshgrid(x,x)"
   ]
  },
  {
   "cell_type": "markdown",
   "metadata": {
    "id": "Ly6Yg3ABEY2-"
   },
   "source": [
    "8. Having a scalar `x` and a random vector `v`, find a value in `v` that is closest to `x`\n",
    "\n",
    "`hint: argmin`"
   ]
  },
  {
   "cell_type": "code",
   "execution_count": 65,
   "metadata": {
    "id": "WC3FkkfkFCGU"
   },
   "outputs": [
    {
     "name": "stdout",
     "output_type": "stream",
     "text": [
      "[7.73165052 8.70427686 0.08046949 3.09735926 9.57603739 5.13116712\n",
      " 3.18284425 5.39199937 2.21254942 8.06481358]\n",
      "8.704276857248127  is the entry closest to  9\n"
     ]
    }
   ],
   "source": [
    "np.random.seed(14)\n",
    "x = np.random.randint(1,11,1)\n",
    "v = np.random.rand(10) * 10\n",
    "closest = abs(v - x).argmin()\n",
    "print(v)\n",
    "print(v[closest],' is the entry closest to ',x[0])"
   ]
  },
  {
   "cell_type": "markdown",
   "metadata": {
    "id": "bz-Y3S-PFKgB"
   },
   "source": [
    "9. Consider a random vector with shape (100,2) representing coordinates, find point by point distances and put them in a (100,100) array."
   ]
  },
  {
   "cell_type": "code",
   "execution_count": 67,
   "metadata": {
    "id": "GZuYEwWBGOST"
   },
   "outputs": [],
   "source": [
    "coords = np.random.randint(0,11,(100,2))"
   ]
  },
  {
   "cell_type": "code",
   "execution_count": 77,
   "metadata": {},
   "outputs": [
    {
     "name": "stderr",
     "output_type": "stream",
     "text": [
      "C:\\Users\\jonas\\AppData\\Local\\Temp\\ipykernel_8896\\1344153620.py:7: RuntimeWarning: invalid value encountered in sqrt\n",
      "  dists[i,j] = np.sqrt((c2[0]-c1[0])^2 + (c2[1]-c1[1])^2)\n"
     ]
    },
    {
     "data": {
      "text/plain": [
       "array([[0.        , 1.        ,        nan, ..., 2.        , 1.73205081,\n",
       "        3.74165739],\n",
       "       [       nan, 0.        ,        nan, ...,        nan,        nan,\n",
       "        1.        ],\n",
       "       [       nan, 2.23606798, 0.        , ...,        nan,        nan,\n",
       "        2.        ],\n",
       "       ...,\n",
       "       [       nan, 1.73205081,        nan, ..., 0.        ,        nan,\n",
       "        1.41421356],\n",
       "       [       nan, 2.        ,        nan, ..., 1.73205081, 0.        ,\n",
       "        2.64575131],\n",
       "       [       nan,        nan, 0.        , ...,        nan,        nan,\n",
       "        0.        ]])"
      ]
     },
     "execution_count": 77,
     "metadata": {},
     "output_type": "execute_result"
    }
   ],
   "source": [
    "dists = np.zeros((100,100))\n",
    "for i in range(100):\n",
    "    for j in range(100):\n",
    "        c1 = coords[i,:]\n",
    "        c2 = coords[j,:]\n",
    "        try:\n",
    "            dists[i,j] = np.sqrt((c2[0]-c1[0])^2 + (c2[1]-c1[1])^2)\n",
    "        except:\n",
    "            dists[i,j] = 0\n",
    "dists"
   ]
  },
  {
   "cell_type": "markdown",
   "metadata": {
    "id": "mASMahBpGOZW"
   },
   "source": [
    "10. Create a random (100, 100) matrix with values from 0 to 1. Turn all values lower than 0.5 into 0.0"
   ]
  },
  {
   "cell_type": "code",
   "execution_count": 85,
   "metadata": {
    "id": "nfJsjzgeGlOs"
   },
   "outputs": [
    {
     "data": {
      "text/plain": [
       "array([[0.72279696, 0.73140917, 0.        , ..., 0.88475388, 0.        ,\n",
       "        0.        ],\n",
       "       [0.        , 0.        , 0.        , ..., 0.        , 0.        ,\n",
       "        0.        ],\n",
       "       [0.52154884, 0.86590074, 0.        , ..., 0.        , 0.95624389,\n",
       "        0.55071677],\n",
       "       ...,\n",
       "       [0.        , 0.94751214, 0.92295234, ..., 0.87414766, 0.83343977,\n",
       "        0.        ],\n",
       "       [0.        , 0.        , 0.        , ..., 0.        , 0.        ,\n",
       "        0.66685507],\n",
       "       [0.53696382, 0.        , 0.67796111, ..., 0.64720146, 0.61963185,\n",
       "        0.67879746]])"
      ]
     },
     "execution_count": 85,
     "metadata": {},
     "output_type": "execute_result"
    }
   ],
   "source": [
    "hundred = np.random.rand(100,100)\n",
    "hundred[hundred[:,:] < 0.5] = 0"
   ]
  },
  {
   "cell_type": "markdown",
   "metadata": {
    "id": "HjJD3LnuGlUm"
   },
   "source": [
    "11. Sort an array by the nth column."
   ]
  },
  {
   "cell_type": "code",
   "execution_count": 93,
   "metadata": {
    "id": "STlF-kurHJjM"
   },
   "outputs": [],
   "source": [
    "def sort_by_random(array):\n",
    "    n = np.random.randint(0,len(array))\n",
    "    print('Sort by column ',n)\n",
    "    return array[array[:,n].argsort()]"
   ]
  },
  {
   "cell_type": "code",
   "execution_count": 94,
   "metadata": {},
   "outputs": [
    {
     "name": "stdout",
     "output_type": "stream",
     "text": [
      "Sort by column  99\n"
     ]
    },
    {
     "data": {
      "text/plain": [
       "array([[0.72279696, 0.73140917, 0.        , ..., 0.88475388, 0.        ,\n",
       "        0.        ],\n",
       "       [0.87894768, 0.60605082, 0.50347783, ..., 0.5062815 , 0.        ,\n",
       "        0.        ],\n",
       "       [0.        , 0.        , 0.76368949, ..., 0.65534792, 0.83762145,\n",
       "        0.        ],\n",
       "       ...,\n",
       "       [0.50185979, 0.9499529 , 0.93476826, ..., 0.99074215, 0.86463893,\n",
       "        0.96974117],\n",
       "       [0.57806169, 0.62741185, 0.94753915, ..., 0.70177033, 0.88765327,\n",
       "        0.97504505],\n",
       "       [0.82279406, 0.        , 0.        , ..., 0.97030083, 0.        ,\n",
       "        0.97844561]])"
      ]
     },
     "execution_count": 94,
     "metadata": {},
     "output_type": "execute_result"
    }
   ],
   "source": [
    "sort_by_random(hundred)"
   ]
  },
  {
   "cell_type": "markdown",
   "metadata": {
    "id": "PgfmRH4fJcwZ"
   },
   "source": [
    "12. Subtract the mean of each row of a matrix."
   ]
  },
  {
   "cell_type": "code",
   "execution_count": 115,
   "metadata": {
    "id": "IsIHyXgmJ-6x"
   },
   "outputs": [
    {
     "name": "stdout",
     "output_type": "stream",
     "text": [
      "[[ 6  2  8  8 10]\n",
      " [ 9  3  8  5  9]\n",
      " [ 7  3  7  4  1]\n",
      " [ 0  3  0  5  9]\n",
      " [ 7  6  9  3  8]]\n",
      "[[-0.8 -4.8  1.2  1.2  3.2]\n",
      " [ 2.2 -3.8  1.2 -1.8  2.2]\n",
      " [ 2.6 -1.4  2.6 -0.4 -3.4]\n",
      " [-3.4 -0.4 -3.4  1.6  5.6]\n",
      " [ 0.4 -0.6  2.4 -3.6  1.4]]\n"
     ]
    }
   ],
   "source": [
    "a = np.random.randint(0,11,(5,5))\n",
    "for i in range(len(a)):\n",
    "    b[i] = a[i] - np.mean(a[i])\n",
    "print(a)\n",
    "print(b)"
   ]
  },
  {
   "cell_type": "markdown",
   "metadata": {
    "id": "7FwporQmKMfV"
   },
   "source": [
    "13. Do a dot product of two matrices and print only the diagonal values."
   ]
  },
  {
   "cell_type": "code",
   "execution_count": 100,
   "metadata": {
    "id": "DqLnFglFKijP"
   },
   "outputs": [
    {
     "name": "stdout",
     "output_type": "stream",
     "text": [
      "1.5295583587793637\n",
      "0.6666267334805988\n",
      "1.536171377666133\n",
      "1.3736429546482911\n",
      "1.90341137141635\n"
     ]
    }
   ],
   "source": [
    "a = np.random.rand(5,5)\n",
    "b = np.random.rand(5,5)\n",
    "c = np.dot(a,b)\n",
    "for i in range(len(c)):\n",
    "    print(c[i][i])"
   ]
  },
  {
   "cell_type": "markdown",
   "metadata": {
    "id": "FwBos0hcKj5j"
   },
   "source": [
    "14. Swap two rows of a matrix."
   ]
  },
  {
   "cell_type": "code",
   "execution_count": 106,
   "metadata": {
    "id": "sXSrNvAhKr_1"
   },
   "outputs": [
    {
     "name": "stdout",
     "output_type": "stream",
     "text": [
      "[[0.45725073 0.77610919 0.2149972  0.45879591 0.9029144 ]\n",
      " [0.02784528 0.20191782 0.47429469 0.10376212 0.98617141]\n",
      " [0.24099708 0.72687676 0.67254424 0.54075033 0.32697288]\n",
      " [0.2540496  0.09098764 0.27721074 0.06604909 0.0228498 ]\n",
      " [0.88045262 0.92926189 0.63273994 0.5503846  0.95067369]]\n",
      "[[0.02784528 0.20191782 0.47429469 0.10376212 0.98617141]\n",
      " [0.45725073 0.77610919 0.2149972  0.45879591 0.9029144 ]\n",
      " [0.24099708 0.72687676 0.67254424 0.54075033 0.32697288]\n",
      " [0.2540496  0.09098764 0.27721074 0.06604909 0.0228498 ]\n",
      " [0.88045262 0.92926189 0.63273994 0.5503846  0.95067369]]\n"
     ]
    }
   ],
   "source": [
    "a = np.random.rand(5,5)\n",
    "def swap(array,i,j):\n",
    "    old = array.copy()\n",
    "    array[i], array[j] = old[j], old[i]\n",
    "    return array\n",
    "print(a)\n",
    "print(swap(a,0,1))"
   ]
  },
  {
   "cell_type": "markdown",
   "metadata": {
    "id": "FGSpfIrJK8JO"
   },
   "source": [
    "15. find the most frequent value in an array"
   ]
  },
  {
   "cell_type": "code",
   "execution_count": 113,
   "metadata": {
    "id": "C4M6dF9zLAx2"
   },
   "outputs": [
    {
     "name": "stdout",
     "output_type": "stream",
     "text": [
      "Most frequent entry in array is\n"
     ]
    },
    {
     "data": {
      "text/plain": [
       "6"
      ]
     },
     "execution_count": 113,
     "metadata": {},
     "output_type": "execute_result"
    }
   ],
   "source": [
    "a = np.random.randint(0,11,(5,5))\n",
    "uniq = np.unique(a,return_counts=True)\n",
    "print('Most frequent entry in array is')\n",
    "uniq[0][uniq[1].argmax()]"
   ]
  },
  {
   "cell_type": "code",
   "execution_count": null,
   "metadata": {},
   "outputs": [],
   "source": []
  }
 ],
 "metadata": {
  "colab": {
   "name": "7b_numpy_exercises.ipynb",
   "provenance": []
  },
  "kernelspec": {
   "display_name": "Python 3.10.6 64-bit (windows store)",
   "language": "python",
   "name": "python3"
  },
  "language_info": {
   "codemirror_mode": {
    "name": "ipython",
    "version": 3
   },
   "file_extension": ".py",
   "mimetype": "text/x-python",
   "name": "python",
   "nbconvert_exporter": "python",
   "pygments_lexer": "ipython3",
   "version": "3.10.6"
  },
  "vscode": {
   "interpreter": {
    "hash": "059b92ebffe316512df3810dcdd9739bd5d694b60baa1e9e8136193b1cf34557"
   }
  }
 },
 "nbformat": 4,
 "nbformat_minor": 1
}
